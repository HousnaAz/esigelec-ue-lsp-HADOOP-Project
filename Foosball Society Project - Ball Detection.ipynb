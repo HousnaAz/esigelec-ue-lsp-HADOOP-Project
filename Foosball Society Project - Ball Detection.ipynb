{
 "cells": [
  {
   "cell_type": "code",
   "execution_count": 13,
   "metadata": {},
   "outputs": [],
   "source": [
    "import os\n",
    "import numpy as np\n",
    "import cv2\n",
    "import time\n",
    "from resizeimage import resizeimage\n",
    "import json\n",
    "#from pyimagesearch.shapedetector import ShapeDetector\n",
    "import argparse\n",
    "import imutils\n",
    "import re"
   ]
  },
  {
   "cell_type": "code",
   "execution_count": 14,
   "metadata": {},
   "outputs": [],
   "source": [
    "#os.chdir(\"C:/Users/Housna/Desktop/vid_proj\")"
   ]
  },
  {
   "cell_type": "code",
   "execution_count": 66,
   "metadata": {},
   "outputs": [],
   "source": [
    "os.chdir('C:/Users/Housna/Desktop/TEST_LSP')"
   ]
  },
  {
   "cell_type": "code",
   "execution_count": 67,
   "metadata": {},
   "outputs": [],
   "source": [
    "# Frames sorting\n",
    "numbers = re.compile(r'(\\d+)')\n",
    "def numericalSort(value):\n",
    "    parts = numbers.split(value)\n",
    "    parts[1::2] = map(int, parts[1::2])\n",
    "    return parts"
   ]
  },
  {
   "cell_type": "code",
   "execution_count": 78,
   "metadata": {},
   "outputs": [],
   "source": [
    "# Ball Detection in a frame from .mp4\n",
    "def detect_yellow_mp4(image):\n",
    "    image = image[50:440, 0:640]\n",
    "    original = image.copy()\n",
    "    image = cv2.cvtColor(image, cv2.COLOR_BGR2HSV)\n",
    "    lower = np.array([20, 30, 140], dtype=\"uint8\")\n",
    "    upper = np.array([70, 100, 100], dtype=\"uint8\")\n",
    "    mask = cv2.inRange(image, lower, upper)\n",
    "    res = []\n",
    "    x = 0\n",
    "    y = 0\n",
    "    k = \"la balle n est pas sur le terrain\"\n",
    "    cnts = cv2.findContours(mask, cv2.RETR_EXTERNAL, cv2.CHAIN_APPROX_SIMPLE)\n",
    "    cnts = cnts[0] if len(cnts) == 2 else cnts[1]\n",
    "     \n",
    "    for c in cnts:\n",
    "        approx = cv2.approxPolyDP(c,0.001*cv2.arcLength(c,True),True)\n",
    "        x = approx.ravel()[0]\n",
    "        y = approx.ravel()[1]\n",
    "        if len(approx) > 30 :\n",
    "            #cv2.drawContours(original, [approx],0,(35,255,12),2)\n",
    "            x,y,w,h = cv2.boundingRect(c)\n",
    "            if len(approx) > 60 :\n",
    "                cv2.rectangle(original, (x, y), (x + w, y + h), (36,255,12), 2)\n",
    "                k = \"La balle est en arrêt ou sous le pied d'un joueur\"                \n",
    "            else :\n",
    "                cv2.rectangle(original, (x, y), (x + w, y + h), (36,255,12), 2)\n",
    "                k = \"la balle est en jeu\"\n",
    "    cv2.imshow('mask', mask)\n",
    "    cv2.imshow('original', original)\n",
    "    cv2.waitKey(0)\n",
    "    cv2.destroyAllWindows()\n",
    "    res.append(k)\n",
    "    res.append(x)\n",
    "    res.append(y)\n",
    "    return res\n",
    "    \n",
    "# Ball Detection in a frame from .mkv\n",
    "def detect_yellow_mkv(image):\n",
    "    image = image[0:450, 0:640]\n",
    "    original = image.copy()\n",
    "    image = cv2.cvtColor(image, cv2.COLOR_BGR2HSV)\n",
    "    lower = np.array([20, 50, 100], dtype=\"uint8\")\n",
    "    upper = np.array([45, 255, 255], dtype=\"uint8\")\n",
    "    mask = cv2.inRange(image, lower, upper)\n",
    "    res = []\n",
    "    x = 0\n",
    "    y = 0\n",
    "    k = \"la balle n est pas sur le terrain\"\n",
    "    cnts = cv2.findContours(mask, cv2.RETR_EXTERNAL, cv2.CHAIN_APPROX_SIMPLE)\n",
    "    cnts = cnts[0] if len(cnts) == 2 else cnts[1]\n",
    "     \n",
    "    for c in cnts:\n",
    "        approx = cv2.approxPolyDP(c,0.001*cv2.arcLength(c,True),True)\n",
    "        x = approx.ravel()[0]\n",
    "        y = approx.ravel()[1]\n",
    "        if len(approx) > 5 :\n",
    "            #cv2.drawContours(original, [approx],0,(35,255,12),2)\n",
    "            x,y,w,h = cv2.boundingRect(c)\n",
    "            if len(approx) > 30 : \n",
    "                cv2.rectangle(original, (x, y), (x + w, y + h), (36,255,12), 2)\n",
    "                k = \"La balle est sous le pied d'un joueur\"                \n",
    "            else :\n",
    "                cv2.rectangle(original, (x, y), (x + w, y + h), (36,255,12), 2)\n",
    "                k = \"la balle est en jeu\"\n",
    "    cv2.imshow('mask', mask)\n",
    "    cv2.imshow('original', original)\n",
    "    cv2.waitKey(100)\n",
    "    cv2.destroyAllWindows()\n",
    "    res.append(k)\n",
    "    res.append(x)\n",
    "    res.append(y)\n",
    "    return res\n",
    "\n",
    "#Detect a ball : returns a dict of the frame and the state of the ball\n",
    "def ball_detect(frame): \n",
    "    rslt = {}\n",
    "    rslt[\"frame\"] = frame\n",
    "    if 'mp4' in  frame :\n",
    "        im = cv2.imread(frame,1)\n",
    "        rslt[\"Ball state\"] = detect_yellow_mp4(im)[0]\n",
    "        rslt[\"Ball position\"] = (detect_yellow_mp4(im)[1], detect_yellow_mp4(im)[2])\n",
    "\n",
    "    elif 'mkv' in frame :\n",
    "        im = cv2.imread(frame,1)\n",
    "        rslt[\"Ball state\"] = detect_yellow_mkv(im)[0]\n",
    "        rslt[\"Ball position\"] = (detect_yellow_mkv(im)[1], detect_yellow_mkv(im)[2])\n",
    "    return rslt\n",
    "\n",
    "#Creates a .json with the results of all the path's frames\n",
    "def result_ball_detect(path):   \n",
    "    with open('results2.json', 'w') as outfile:\n",
    "        for element in sorted(os.listdir(path), key=numericalSort):\n",
    "             if element.endswith('.jpg') :\n",
    "                        json.dump(ball_detect(element), outfile, indent=2)\n",
    "                        outfile.write('\\n')"
   ]
  },
  {
   "cell_type": "code",
   "execution_count": 79,
   "metadata": {},
   "outputs": [
    {
     "ename": "KeyboardInterrupt",
     "evalue": "",
     "output_type": "error",
     "traceback": [
      "\u001b[1;31m\u001b[0m",
      "\u001b[1;31mKeyboardInterrupt\u001b[0mTraceback (most recent call last)",
      "\u001b[1;32m<ipython-input-79-215189a120c3>\u001b[0m in \u001b[0;36m<module>\u001b[1;34m()\u001b[0m\n\u001b[0;32m      2\u001b[0m \u001b[1;31m#im = cv2.imread(\"191125_241570_12.mp4__frame551.jpg\",1)\u001b[0m\u001b[1;33m\u001b[0m\u001b[1;33m\u001b[0m\u001b[0m\n\u001b[0;32m      3\u001b[0m \u001b[1;31m#detect_yellow_mp4(im)\u001b[0m\u001b[1;33m\u001b[0m\u001b[1;33m\u001b[0m\u001b[0m\n\u001b[1;32m----> 4\u001b[1;33m \u001b[0mresult_ball_detect\u001b[0m\u001b[1;33m(\u001b[0m\u001b[1;34m'.'\u001b[0m\u001b[1;33m)\u001b[0m\u001b[1;33m\u001b[0m\u001b[0m\n\u001b[0m",
      "\u001b[1;32m<ipython-input-78-33f1277e5e78>\u001b[0m in \u001b[0;36mresult_ball_detect\u001b[1;34m(path)\u001b[0m\n\u001b[0;32m     93\u001b[0m         \u001b[1;32mfor\u001b[0m \u001b[0melement\u001b[0m \u001b[1;32min\u001b[0m \u001b[0msorted\u001b[0m\u001b[1;33m(\u001b[0m\u001b[0mos\u001b[0m\u001b[1;33m.\u001b[0m\u001b[0mlistdir\u001b[0m\u001b[1;33m(\u001b[0m\u001b[0mpath\u001b[0m\u001b[1;33m)\u001b[0m\u001b[1;33m,\u001b[0m \u001b[0mkey\u001b[0m\u001b[1;33m=\u001b[0m\u001b[0mnumericalSort\u001b[0m\u001b[1;33m)\u001b[0m\u001b[1;33m:\u001b[0m\u001b[1;33m\u001b[0m\u001b[0m\n\u001b[0;32m     94\u001b[0m              \u001b[1;32mif\u001b[0m \u001b[0melement\u001b[0m\u001b[1;33m.\u001b[0m\u001b[0mendswith\u001b[0m\u001b[1;33m(\u001b[0m\u001b[1;34m'.jpg'\u001b[0m\u001b[1;33m)\u001b[0m \u001b[1;33m:\u001b[0m\u001b[1;33m\u001b[0m\u001b[0m\n\u001b[1;32m---> 95\u001b[1;33m                         \u001b[0mjson\u001b[0m\u001b[1;33m.\u001b[0m\u001b[0mdump\u001b[0m\u001b[1;33m(\u001b[0m\u001b[0mball_detect\u001b[0m\u001b[1;33m(\u001b[0m\u001b[0melement\u001b[0m\u001b[1;33m)\u001b[0m\u001b[1;33m,\u001b[0m \u001b[0moutfile\u001b[0m\u001b[1;33m,\u001b[0m \u001b[0mindent\u001b[0m\u001b[1;33m=\u001b[0m\u001b[1;36m2\u001b[0m\u001b[1;33m)\u001b[0m\u001b[1;33m\u001b[0m\u001b[0m\n\u001b[0m\u001b[0;32m     96\u001b[0m                         \u001b[0moutfile\u001b[0m\u001b[1;33m.\u001b[0m\u001b[0mwrite\u001b[0m\u001b[1;33m(\u001b[0m\u001b[1;34m'\\n'\u001b[0m\u001b[1;33m)\u001b[0m\u001b[1;33m\u001b[0m\u001b[0m\n",
      "\u001b[1;32m<ipython-input-78-33f1277e5e78>\u001b[0m in \u001b[0;36mball_detect\u001b[1;34m(frame)\u001b[0m\n\u001b[0;32m     85\u001b[0m         \u001b[0mim\u001b[0m \u001b[1;33m=\u001b[0m \u001b[0mcv2\u001b[0m\u001b[1;33m.\u001b[0m\u001b[0mimread\u001b[0m\u001b[1;33m(\u001b[0m\u001b[0mframe\u001b[0m\u001b[1;33m,\u001b[0m\u001b[1;36m1\u001b[0m\u001b[1;33m)\u001b[0m\u001b[1;33m\u001b[0m\u001b[0m\n\u001b[0;32m     86\u001b[0m         \u001b[0mrslt\u001b[0m\u001b[1;33m[\u001b[0m\u001b[1;34m\"Ball state\"\u001b[0m\u001b[1;33m]\u001b[0m \u001b[1;33m=\u001b[0m \u001b[0mdetect_yellow_mkv\u001b[0m\u001b[1;33m(\u001b[0m\u001b[0mim\u001b[0m\u001b[1;33m)\u001b[0m\u001b[1;33m[\u001b[0m\u001b[1;36m0\u001b[0m\u001b[1;33m]\u001b[0m\u001b[1;33m\u001b[0m\u001b[0m\n\u001b[1;32m---> 87\u001b[1;33m         \u001b[0mrslt\u001b[0m\u001b[1;33m[\u001b[0m\u001b[1;34m\"Ball position\"\u001b[0m\u001b[1;33m]\u001b[0m \u001b[1;33m=\u001b[0m \u001b[1;33m(\u001b[0m\u001b[0mdetect_yellow_mkv\u001b[0m\u001b[1;33m(\u001b[0m\u001b[0mim\u001b[0m\u001b[1;33m)\u001b[0m\u001b[1;33m[\u001b[0m\u001b[1;36m1\u001b[0m\u001b[1;33m]\u001b[0m\u001b[1;33m,\u001b[0m \u001b[0mdetect_yellow_mkv\u001b[0m\u001b[1;33m(\u001b[0m\u001b[0mim\u001b[0m\u001b[1;33m)\u001b[0m\u001b[1;33m[\u001b[0m\u001b[1;36m2\u001b[0m\u001b[1;33m]\u001b[0m\u001b[1;33m)\u001b[0m\u001b[1;33m\u001b[0m\u001b[0m\n\u001b[0m\u001b[0;32m     88\u001b[0m     \u001b[1;32mreturn\u001b[0m \u001b[0mrslt\u001b[0m\u001b[1;33m\u001b[0m\u001b[0m\n\u001b[0;32m     89\u001b[0m \u001b[1;33m\u001b[0m\u001b[0m\n",
      "\u001b[1;32m<ipython-input-78-33f1277e5e78>\u001b[0m in \u001b[0;36mdetect_yellow_mkv\u001b[1;34m(image)\u001b[0m\n\u001b[0;32m     66\u001b[0m     \u001b[0mcv2\u001b[0m\u001b[1;33m.\u001b[0m\u001b[0mimshow\u001b[0m\u001b[1;33m(\u001b[0m\u001b[1;34m'mask'\u001b[0m\u001b[1;33m,\u001b[0m \u001b[0mmask\u001b[0m\u001b[1;33m)\u001b[0m\u001b[1;33m\u001b[0m\u001b[0m\n\u001b[0;32m     67\u001b[0m     \u001b[0mcv2\u001b[0m\u001b[1;33m.\u001b[0m\u001b[0mimshow\u001b[0m\u001b[1;33m(\u001b[0m\u001b[1;34m'original'\u001b[0m\u001b[1;33m,\u001b[0m \u001b[0moriginal\u001b[0m\u001b[1;33m)\u001b[0m\u001b[1;33m\u001b[0m\u001b[0m\n\u001b[1;32m---> 68\u001b[1;33m     \u001b[0mcv2\u001b[0m\u001b[1;33m.\u001b[0m\u001b[0mwaitKey\u001b[0m\u001b[1;33m(\u001b[0m\u001b[1;36m100\u001b[0m\u001b[1;33m)\u001b[0m\u001b[1;33m\u001b[0m\u001b[0m\n\u001b[0m\u001b[0;32m     69\u001b[0m     \u001b[0mcv2\u001b[0m\u001b[1;33m.\u001b[0m\u001b[0mdestroyAllWindows\u001b[0m\u001b[1;33m(\u001b[0m\u001b[1;33m)\u001b[0m\u001b[1;33m\u001b[0m\u001b[0m\n\u001b[0;32m     70\u001b[0m     \u001b[0mres\u001b[0m\u001b[1;33m.\u001b[0m\u001b[0mappend\u001b[0m\u001b[1;33m(\u001b[0m\u001b[0mk\u001b[0m\u001b[1;33m)\u001b[0m\u001b[1;33m\u001b[0m\u001b[0m\n",
      "\u001b[1;31mKeyboardInterrupt\u001b[0m: "
     ]
    }
   ],
   "source": [
    "#ball_detect(\"2019_12_11__17_52_23.mkv__frame21354.jpg\")\n",
    "#im = cv2.imread(\"191125_241570_12.mp4__frame551.jpg\",1)\n",
    "#detect_yellow_mp4(im)\n",
    "result_ball_detect('.')"
   ]
  },
  {
   "cell_type": "code",
   "execution_count": null,
   "metadata": {},
   "outputs": [],
   "source": []
  },
  {
   "cell_type": "code",
   "execution_count": null,
   "metadata": {},
   "outputs": [],
   "source": []
  }
 ],
 "metadata": {
  "kernelspec": {
   "display_name": "Python 2",
   "language": "python",
   "name": "python2"
  },
  "language_info": {
   "codemirror_mode": {
    "name": "ipython",
    "version": 2
   },
   "file_extension": ".py",
   "mimetype": "text/x-python",
   "name": "python",
   "nbconvert_exporter": "python",
   "pygments_lexer": "ipython2",
   "version": "2.7.16"
  }
 },
 "nbformat": 4,
 "nbformat_minor": 2
}
