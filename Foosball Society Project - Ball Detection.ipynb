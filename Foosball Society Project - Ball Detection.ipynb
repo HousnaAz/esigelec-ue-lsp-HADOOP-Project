{
 "cells": [
  {
   "cell_type": "code",
   "execution_count": 1,
   "metadata": {},
   "outputs": [],
   "source": [
    "import os\n",
    "import numpy as np\n",
    "import cv2\n",
    "import time\n",
    "from resizeimage import resizeimage"
   ]
  },
  {
   "cell_type": "code",
   "execution_count": 2,
   "metadata": {},
   "outputs": [],
   "source": [
    "#os.chdir(\"C:/Users/Housna/Desktop/vid_proj\")"
   ]
  },
  {
   "cell_type": "code",
   "execution_count": 3,
   "metadata": {},
   "outputs": [
    {
     "data": {
      "text/plain": [
       "'C:\\\\Users\\\\azeddine.housna\\\\Documents\\\\School_Proj'"
      ]
     },
     "execution_count": 3,
     "metadata": {},
     "output_type": "execute_result"
    }
   ],
   "source": [
    "pwd"
   ]
  },
  {
   "cell_type": "code",
   "execution_count": 4,
   "metadata": {},
   "outputs": [],
   "source": [
    "#boundaries = [([25, 146, 190], [62, 174, 250])]"
   ]
  },
  {
   "cell_type": "code",
   "execution_count": 27,
   "metadata": {},
   "outputs": [],
   "source": [
    "# Ball Detection in a frame from .mp4\n",
    "def detect_yellow_mp4(image):\n",
    "    image = image[50:410, 0:640]\n",
    "    original = image.copy()\n",
    "    image = cv2.cvtColor(image, cv2.COLOR_BGR2HSV)\n",
    "    lower = np.array([20, 50, 100], dtype=\"uint8\")\n",
    "    upper = np.array([45, 255, 255], dtype=\"uint8\")\n",
    "    mask = cv2.inRange(image, lower, upper)\n",
    "    #k = \"Aucune balle n'est détectée\"\n",
    "    cnts = cv2.findContours(mask, cv2.RETR_EXTERNAL, cv2.CHAIN_APPROX_SIMPLE)\n",
    "    cnts = cnts[0] if len(cnts) == 2 else cnts[1]\n",
    "     \n",
    "    for c in cnts:\n",
    "        approx = cv2.approxPolyDP(c,0.001*cv2.arcLength(c,True),True)\n",
    "        x = approx.ravel()[0]\n",
    "        y = approx.ravel()[1]\n",
    "        if len(approx) > 18 :\n",
    "            #cv2.drawContours(original, [approx],0,(35,255,12),2)\n",
    "            x,y,w,h = cv2.boundingRect(c)\n",
    "            cv2.rectangle(original, (x, y), (x + w, y + h), (36,255,12), 2)\n",
    "            #k = \"La balle est détectée\"\n",
    "    cv2.imshow('mask', mask)\n",
    "    cv2.imshow('original', original)\n",
    "    cv2.waitKey()\n",
    "    #print(k)\n",
    "    \n",
    "# Ball Detection in a frame from .mkv\n",
    "def detect_yellow_mkv(image):\n",
    "    image = image[0:450, 0:640]\n",
    "    original = image.copy()\n",
    "    image = cv2.cvtColor(image, cv2.COLOR_BGR2HSV)\n",
    "    lower = np.array([20, 50, 100], dtype=\"uint8\")\n",
    "    upper = np.array([45, 255, 255], dtype=\"uint8\")\n",
    "    mask = cv2.inRange(image, lower, upper)\n",
    "    #k = \"Aucune balle n'est détectée\"\n",
    "    cnts = cv2.findContours(mask, cv2.RETR_EXTERNAL, cv2.CHAIN_APPROX_SIMPLE)\n",
    "    cnts = cnts[0] if len(cnts) == 2 else cnts[1]\n",
    "     \n",
    "    for c in cnts:\n",
    "        approx = cv2.approxPolyDP(c,0.001*cv2.arcLength(c,True),True)\n",
    "        x = approx.ravel()[0]\n",
    "        y = approx.ravel()[1]\n",
    "        if len(approx) > 18 :\n",
    "            #cv2.drawContours(original, [approx],0,(35,255,12),2)\n",
    "            x,y,w,h = cv2.boundingRect(c)\n",
    "            cv2.rectangle(original, (x, y), (x + w, y + h), (36,255,12), 2)\n",
    "            #k = \"La balle est détectée\"\n",
    "    cv2.imshow('mask', mask)\n",
    "    cv2.imshow('original', original)\n",
    "    cv2.waitKey()\n",
    "    #print(k)\n",
    "\n",
    "#Detect a ball\n",
    "def ball_detect(frame): \n",
    "    if 'mp4' in  frame :\n",
    "        im = cv2.imread(frame,1)\n",
    "        detect_yellow_mp4(im)\n",
    "    elif 'mkv' in frame :\n",
    "        im = cv2.imread(frame,1)\n",
    "        detect_yellow_mkv(im)"
   ]
  },
  {
   "cell_type": "code",
   "execution_count": 29,
   "metadata": {},
   "outputs": [],
   "source": [
    "ball_detect(\"191125_241566_4.mp4__frame1331.jpg\")"
   ]
  },
  {
   "cell_type": "code",
   "execution_count": null,
   "metadata": {},
   "outputs": [],
   "source": []
  }
 ],
 "metadata": {
  "kernelspec": {
   "display_name": "Python 3",
   "language": "python",
   "name": "python3"
  },
  "language_info": {
   "codemirror_mode": {
    "name": "ipython",
    "version": 3
   },
   "file_extension": ".py",
   "mimetype": "text/x-python",
   "name": "python",
   "nbconvert_exporter": "python",
   "pygments_lexer": "ipython3",
   "version": "3.6.8"
  }
 },
 "nbformat": 4,
 "nbformat_minor": 2
}
