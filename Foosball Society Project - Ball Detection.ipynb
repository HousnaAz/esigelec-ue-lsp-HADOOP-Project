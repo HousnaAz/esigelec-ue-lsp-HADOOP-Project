{
 "cells": [
  {
   "cell_type": "code",
   "execution_count": 8,
   "metadata": {},
   "outputs": [],
   "source": [
    "import os\n",
    "import numpy as np\n",
    "import cv2\n",
    "import time\n",
    "from resizeimage import resizeimage\n",
    "import json\n",
    "#from pyimagesearch.shapedetector import ShapeDetector\n",
    "import argparse\n",
    "import imutils"
   ]
  },
  {
   "cell_type": "code",
   "execution_count": 9,
   "metadata": {},
   "outputs": [],
   "source": [
    "#os.chdir(\"C:/Users/Housna/Desktop/vid_proj\")"
   ]
  },
  {
   "cell_type": "code",
   "execution_count": 10,
   "metadata": {},
   "outputs": [],
   "source": [
    "os.chdir('C:\\\\Users\\\\azeddine.housna\\\\Documents\\\\School_Proj')"
   ]
  },
  {
   "cell_type": "code",
   "execution_count": 12,
   "metadata": {},
   "outputs": [],
   "source": [
    "#boundaries = [([25, 146, 190], [62, 174, 250])]"
   ]
  },
  {
   "cell_type": "code",
   "execution_count": 56,
   "metadata": {},
   "outputs": [],
   "source": [
    "# Ball Detection in a frame from .mp4\n",
    "def detect_yellow_mp4(image):\n",
    "    image = image[50:410, 0:640]\n",
    "    original = image.copy()\n",
    "    image = cv2.cvtColor(image, cv2.COLOR_BGR2HSV)\n",
    "    lower = np.array([20, 30, 140], dtype=\"uint8\")\n",
    "    upper = np.array([45, 255, 255], dtype=\"uint8\")\n",
    "    mask = cv2.inRange(image, lower, upper)\n",
    "    k = \"la balle n est pas sur le terrain\"\n",
    "    cnts = cv2.findContours(mask, cv2.RETR_EXTERNAL, cv2.CHAIN_APPROX_SIMPLE)\n",
    "    cnts = cnts[0] if len(cnts) == 2 else cnts[1]\n",
    "     \n",
    "    for c in cnts:\n",
    "        approx = cv2.approxPolyDP(c,0.001*cv2.arcLength(c,True),True)\n",
    "        x = approx.ravel()[0]\n",
    "        y = approx.ravel()[1]\n",
    "        if len(approx) > 20 :\n",
    "            #cv2.drawContours(original, [approx],0,(35,255,12),2)\n",
    "            x,y,w,h = cv2.boundingRect(c)\n",
    "            if len(approx) > 60 :\n",
    "                cv2.rectangle(original, (x, y), (x + w, y + h), (36,255,12), 2)\n",
    "                k = \"La balle est en arrêt ou sous le pied d'un joueur\"                \n",
    "            else :\n",
    "                cv2.rectangle(original, (x, y), (x + w, y + h), (36,255,12), 2)\n",
    "                k = \"la balle est en jeu\"\n",
    "    cv2.imshow('mask', mask)\n",
    "    cv2.imshow('original', original)\n",
    "    cv2.waitKey(0)\n",
    "    cv2.destroyAllWindows()\n",
    "    return k\n",
    "    \n",
    "# Ball Detection in a frame from .mkv\n",
    "def detect_yellow_mkv(image):\n",
    "    image = image[0:450, 0:640]\n",
    "    original = image.copy()\n",
    "    image = cv2.cvtColor(image, cv2.COLOR_BGR2HSV)\n",
    "    lower = np.array([20, 50, 100], dtype=\"uint8\")\n",
    "    upper = np.array([45, 255, 255], dtype=\"uint8\")\n",
    "    mask = cv2.inRange(image, lower, upper)\n",
    "    k = \"la balle n est pas sur le terrain\"\n",
    "    cnts = cv2.findContours(mask, cv2.RETR_EXTERNAL, cv2.CHAIN_APPROX_SIMPLE)\n",
    "    cnts = cnts[0] if len(cnts) == 2 else cnts[1]\n",
    "     \n",
    "    for c in cnts:\n",
    "        approx = cv2.approxPolyDP(c,0.001*cv2.arcLength(c,True),True)\n",
    "        x = approx.ravel()[0]\n",
    "        y = approx.ravel()[1]\n",
    "        if len(approx) > 5 :\n",
    "            #cv2.drawContours(original, [approx],0,(35,255,12),2)\n",
    "            x,y,w,h = cv2.boundingRect(c)\n",
    "            if len(approx) > 30 : \n",
    "                cv2.rectangle(original, (x, y), (x + w, y + h), (36,255,12), 2)\n",
    "                k = \"La balle est en arrêt ou sous le pied d'un joueur\"                \n",
    "            else :\n",
    "                cv2.rectangle(original, (x, y), (x + w, y + h), (36,255,12), 2)\n",
    "                k = \"la balle est en jeu\"\n",
    "    cv2.imshow('mask', mask)\n",
    "    cv2.imshow('original', original)\n",
    "    cv2.waitKey(0)\n",
    "    cv2.destroyAllWindows()\n",
    "    return k\n",
    "\n",
    "#Detect a ball : returns a dict of the frame and the state of the ball\n",
    "def ball_detect(frame): \n",
    "    rslt = {}\n",
    "    rslt[\"frame\"] = frame\n",
    "    if 'mp4' in  frame :\n",
    "        im = cv2.imread(frame,1)\n",
    "        rslt[\"Ball state\"] = detect_yellow_mp4(im)\n",
    "    elif 'mkv' in frame :\n",
    "        im = cv2.imread(frame,1)\n",
    "        rslt[\"Ball state\"] = detect_yellow_mkv(im)\n",
    "    return rslt\n",
    "\n",
    "#Creates a .json with the results of all the path's frames\n",
    "def result_ball_detect(path):\n",
    "    with open('results.txt', 'w') as outfile:\n",
    "        for element in os.listdir(path):\n",
    "             if element.endswith('.jpg') :\n",
    "                        json.dump(ball_detect(element), outfile, indent=2)"
   ]
  },
  {
   "cell_type": "code",
   "execution_count": 60,
   "metadata": {},
   "outputs": [
    {
     "data": {
      "text/plain": [
       "{'frame': '191125_241563_7.mp4__frame997.jpg',\n",
       " 'Ball state': 'la balle est en jeu'}"
      ]
     },
     "execution_count": 60,
     "metadata": {},
     "output_type": "execute_result"
    }
   ],
   "source": [
    "#ball_detect(\"2019_12_11__17_38_36.mkv__frame13164.jpg\")\n",
    "ball_detect(\"191125_241563_7.mp4__frame997.jpg\")\n",
    "#result_ball_detect('.')"
   ]
  },
  {
   "cell_type": "code",
   "execution_count": null,
   "metadata": {},
   "outputs": [],
   "source": []
  },
  {
   "cell_type": "code",
   "execution_count": null,
   "metadata": {},
   "outputs": [],
   "source": []
  }
 ],
 "metadata": {
  "kernelspec": {
   "display_name": "Python 3",
   "language": "python",
   "name": "python3"
  },
  "language_info": {
   "codemirror_mode": {
    "name": "ipython",
    "version": 3
   },
   "file_extension": ".py",
   "mimetype": "text/x-python",
   "name": "python",
   "nbconvert_exporter": "python",
   "pygments_lexer": "ipython3",
   "version": "3.6.8"
  }
 },
 "nbformat": 4,
 "nbformat_minor": 2
}
